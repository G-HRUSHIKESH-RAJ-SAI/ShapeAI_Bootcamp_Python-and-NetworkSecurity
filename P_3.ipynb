{
  "nbformat": 4,
  "nbformat_minor": 0,
  "metadata": {
    "colab": {
      "name": "P_3.ipynb",
      "provenance": []
    },
    "kernelspec": {
      "name": "python3",
      "display_name": "Python 3"
    },
    "language_info": {
      "name": "python"
    }
  },
  "cells": [
    {
      "cell_type": "code",
      "metadata": {
        "id": "EeAREwGvdSsE"
      },
      "source": [
        " # PROGRAM TO GENERATE HASHES OF STRING DATA USING SALTING AND HASHING\n",
        " # The hash algorithms used are md5 ,sha256, sha512\n",
        "\n",
        " import hashlib , binascii\n",
        "\n",
        " string = 'Hello'.encode()\n",
        "\n",
        " salt1 = hashlib.pbkdf2_hmac('md5',string,b'SaLtiNg',100000)\n",
        " print(\"md5    : \" + binascii.hexlify(salt1).decode())\n",
        "\n",
        " salt2 = hashlib.pbkdf2_hmac('sha256',string,b'SaLtiNg',100000)\n",
        " print(\"sha256 : \" + binascii.hexlify(salt2).decode())\n",
        "\n",
        " salt3 = hashlib.pbkdf2_hmac('sha512',string,b'SaLtiNg',100000)\n",
        " print(\"sha512 : \" + binascii.hexlify(salt3).decode())\n",
        "\n",
        " # Above, the added part to the string while salting is 'SaLtiNg' and no. of iterations are 100000"
      ],
      "execution_count": null,
      "outputs": []
    }
  ]
}