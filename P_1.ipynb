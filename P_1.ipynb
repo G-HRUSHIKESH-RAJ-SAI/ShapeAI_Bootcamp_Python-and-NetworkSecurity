{
  "nbformat": 4,
  "nbformat_minor": 0,
  "metadata": {
    "colab": {
      "name": "P_1.ipynb",
      "provenance": []
    },
    "kernelspec": {
      "name": "python3",
      "display_name": "Python 3"
    },
    "language_info": {
      "name": "python"
    }
  },
  "cells": [
    {
      "cell_type": "code",
      "metadata": {
        "colab": {
          "base_uri": "https://localhost:8080/"
        },
        "id": "uHv_f7HWdK2_",
        "outputId": "e160dfc8-64e8-4894-9db3-6b246a173414"
      },
      "source": [
        " # PROGRAM TO GENERATE md5 OF STRING DATA\n",
        "\n",
        " import hashlib\n",
        "\n",
        " string = b'Hi'\n",
        "\n",
        " hash = hashlib.md5()\n",
        " hash.update(string)\n",
        " print( \" md5 : \" + hash.hexdigest())"
      ],
      "execution_count": 22,
      "outputs": [
        {
          "output_type": "stream",
          "text": [
            " md5 : c1a5298f939e87e8f962a5edfc206918\n"
          ],
          "name": "stdout"
        }
      ]
    }
  ]
}