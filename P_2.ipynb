{
  "nbformat": 4,
  "nbformat_minor": 0,
  "metadata": {
    "colab": {
      "name": "P_2.ipynb",
      "provenance": []
    },
    "kernelspec": {
      "name": "python3",
      "display_name": "Python 3"
    },
    "language_info": {
      "name": "python"
    }
  },
  "cells": [
    {
      "cell_type": "code",
      "metadata": {
        "id": "z1ZzoWgydOnu"
      },
      "source": [
        " # PROGRAM TO GENERATE HASHES OF STRING DATA USING 3 ALGORITHMS\n",
        " # The hash algorithms used are md5 ,sha256, sha512\n",
        " \n",
        " import hashlib\n",
        "\n",
        " string = b'Hello'\n",
        "\n",
        " hash1 = hashlib.md5()\n",
        " hash1.update(string)\n",
        " print( \" md5      : \" + hash1.hexdigest())\n",
        "\n",
        " hash2 = hashlib.sha256()\n",
        " hash2.update(b'Hello')\n",
        " print( \" sha256   : \" + hash2.hexdigest())\n",
        "\n",
        " hash3 = hashlib.sha512()\n",
        " hash3.update(b'Hello')\n",
        " print( \" sha3_512 : \" + hash3.hexdigest())\n"
      ],
      "execution_count": null,
      "outputs": []
    }
  ]
}