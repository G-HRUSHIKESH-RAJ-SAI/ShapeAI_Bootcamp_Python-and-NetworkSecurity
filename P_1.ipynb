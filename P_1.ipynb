{
  "nbformat": 4,
  "nbformat_minor": 0,
  "metadata": {
    "colab": {
      "name": "P_1.ipynb",
      "provenance": []
    },
    "kernelspec": {
      "name": "python3",
      "display_name": "Python 3"
    },
    "language_info": {
      "name": "python"
    }
  },
  "cells": [
    {
      "cell_type": "code",
      "metadata": {
        "id": "uHv_f7HWdK2_"
      },
      "source": [
        " # PROGRAM TO GENERATE md5 OF STRING DATA\n",
        "\n",
        " import hashlib\n",
        "\n",
        " string = b'Hi'\n",
        "\n",
        " hash = hashlib.md5()\n",
        " hash.update(string)\n",
        " print( \" md5 : \" + hash.hexdigest())"
      ],
      "execution_count": null,
      "outputs": []
    }
  ]
}